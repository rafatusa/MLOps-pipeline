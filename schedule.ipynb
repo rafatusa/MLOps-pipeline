{
 "cells": [
  {
   "cell_type": "code",
   "execution_count": null,
   "id": "e0f51b37",
   "metadata": {},
   "outputs": [],
   "source": [
    "import schedule\n",
    "import time\n",
    "\n",
    "duration = 6 # here 6 is for 6 min this will be changed as required\n",
    "def show_name():\n",
    "    exec(open(\"model.py\").read())\n",
    "    \n",
    "schedule.every(duration).minutes.do(show_name)\n",
    "while 1:\n",
    "    schedule.run_pending()\n",
    "    time.sleep(1)"
   ]
  }
 ],
 "metadata": {
  "kernelspec": {
   "display_name": "Python 3",
   "language": "python",
   "name": "python3"
  },
  "language_info": {
   "codemirror_mode": {
    "name": "ipython",
    "version": 3
   },
   "file_extension": ".py",
   "mimetype": "text/x-python",
   "name": "python",
   "nbconvert_exporter": "python",
   "pygments_lexer": "ipython3",
   "version": "3.8.8"
  }
 },
 "nbformat": 4,
 "nbformat_minor": 5
}
